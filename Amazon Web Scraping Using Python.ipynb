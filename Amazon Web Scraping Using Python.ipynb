{
 "cells": [
  {
   "cell_type": "code",
   "execution_count": 1,
   "id": "e73bce97",
   "metadata": {},
   "outputs": [],
   "source": [
    "from bs4 import BeautifulSoup\n",
    "import requests\n",
    "import smtplib\n",
    "import time\n",
    "import datetime"
   ]
  },
  {
   "cell_type": "code",
   "execution_count": 2,
   "id": "e6633ac4",
   "metadata": {},
   "outputs": [
    {
     "name": "stdout",
     "output_type": "stream",
     "text": [
      "Successfully fetched the page.\n",
      "Hello Chandu, Here is no productTitle\n",
      "Hello Chandu, Here is no price\n"
     ]
    }
   ],
   "source": [
    "# connect to website\n",
    "\n",
    "URL = \"https://www.amazon.com/Analyst-Torture-Accounting-Accountant-T-Shirt/dp/B0BNCHW1JS/ref=sr_1_13?dib=eyJ2IjoiMSJ9.Ln_yTUzioLV_sLddYRCmLfdzEd8OYVU0wBxpt4IZOmp76I5AjLHxwJsZjKtXKDiA2iiZkF5gTonMuK5uHW6gs1wd04Q9Cb7sV-7SrnEWhe3OChIjwVuAJre8MVc8Ev47aj5I-Wgqnwrqw7kaGqFh22Xnqjkkna5Nla-L-7AsXll7ofpeYZpcNYoNWF4JW-CFRjrQU5v2ui6JX2HiX5D7H8ZloTU3kRerlnK9E4fKekHL50pgBVeBZFVAGY_wN6W10bX0R_i9OdU10GJAEZzhoxdV4Be2CCUZHGloWsSymkY.xbYJpnEGinFqF2Dd04jazKz725v478ELpFcme0sTS_I&dib_tag=se&keywords=data+analyst+tshirt+funny&qid=1729132268&sr=8-13\"\n",
    "headers = {\"User-Agent\": \"Mozilla/5.0 (Windows NT 10.0; Win64; x64) AppleWebKit/537.36 (KHTML, like Gecko) Chrome/129.0.0.0 Safari/537.36\", \n",
    "    \"X-Amzn-Trace-Id\": \"Root=1-66fd319e-295bc1c341f3d32211307ba8\"}\n",
    "\n",
    "page = requests.get(URL, headers = headers)\n",
    "\n",
    "# Check if the response is successful\n",
    "if page.status_code == 200:\n",
    "    print(\"Successfully fetched the page.\")\n",
    "else:\n",
    "    print(f\"Failed to fetch the page. Status code: {page.status_code}\")\n",
    "    \n",
    "soup = BeautifulSoup(page.content, \"html.parser\")\n",
    "\n",
    "soup1 = BeautifulSoup(soup.prettify(),\"html.parser\")\n",
    "\n",
    "\n",
    "title_element = soup1.find(id='productTitle')\n",
    "\n",
    "if title_element:\n",
    "    title = title_element.get_text().strip()\n",
    "    print(title)\n",
    "else:\n",
    "    print(\"Hello Chandu, Here is no productTitle\")\n",
    "    \n",
    "    \n",
    "price_element = soup1.find(class_='a-offscreen') \n",
    "if price_element: \n",
    "    price = price_element.get_text().strip() \n",
    "    print(price) \n",
    "else: \n",
    "    print(\"Hello Chandu, Here is no price\")\n",
    "\n",
    "    "
   ]
  },
  {
   "cell_type": "code",
   "execution_count": 22,
   "id": "6b084a8d",
   "metadata": {},
   "outputs": [
    {
     "name": "stdout",
     "output_type": "stream",
     "text": [
      "2024-10-17\n"
     ]
    }
   ],
   "source": [
    "import datetime\n",
    "today = datetime.date.today()\n",
    "print(today)"
   ]
  },
  {
   "cell_type": "code",
   "execution_count": 23,
   "id": "c42b35da",
   "metadata": {},
   "outputs": [],
   "source": [
    "title = title.strip()[0:]\n",
    "print(title)\n",
    "price = price.strip()\n",
    "print(price)"
   ]
  },
  {
   "cell_type": "code",
   "execution_count": 24,
   "id": "3cee22ff",
   "metadata": {},
   "outputs": [],
   "source": [
    "import csv\n",
    "header = [\"Title\",\"Price\",\"Date\"]\n",
    "data = [title, price,today]\n",
    "\n",
    "with open('AmazonWebScraperDataset.csv','w',newline='', encoding='UTF-8') as f: \n",
    "    writer = csv.writer(f)\n",
    "    writer.writerow(header)\n",
    "    writer.writerow(data)"
   ]
  },
  {
   "cell_type": "code",
   "execution_count": 47,
   "id": "61008aff",
   "metadata": {},
   "outputs": [],
   "source": [
    "import pandas as pd\n",
    "df = pd.read_csv(r\"C:\\Users\\dell\\.jupyter\\AmazonWebScraperDataset.csv\")\n",
    "print(df)"
   ]
  },
  {
   "cell_type": "code",
   "execution_count": 49,
   "id": "86ce673a",
   "metadata": {},
   "outputs": [],
   "source": [
    "#appending data to the csv\n",
    "\n",
    "with open('AmazonWebScraperDataset.csv','a+',newline='', encoding='UTF-8') as f: \n",
    "    writer = csv.writer(f)\n",
    "    writer.writerow(data)"
   ]
  },
  {
   "cell_type": "code",
   "execution_count": 42,
   "id": "a14d66eb",
   "metadata": {},
   "outputs": [],
   "source": [
    "\n",
    "def check_price():\n",
    "    URL = \"https://www.amazon.com/Analyst-Torture-Accounting-Accountant-T-Shirt/dp/B0BNCHW1JS/ref=sr_1_13?dib=eyJ2IjoiMSJ9.Ln_yTUzioLV_sLddYRCmLfdzEd8OYVU0wBxpt4IZOmp76I5AjLHxwJsZjKtXKDiA2iiZkF5gTonMuK5uHW6gs1wd04Q9Cb7sV-7SrnEWhe3OChIjwVuAJre8MVc8Ev47aj5I-Wgqnwrqw7kaGqFh22Xnqjkkna5Nla-L-7AsXll7ofpeYZpcNYoNWF4JW-CFRjrQU5v2ui6JX2HiX5D7H8ZloTU3kRerlnK9E4fKekHL50pgBVeBZFVAGY_wN6W10bX0R_i9OdU10GJAEZzhoxdV4Be2CCUZHGloWsSymkY.xbYJpnEGinFqF2Dd04jazKz725v478ELpFcme0sTS_I&dib_tag=se&keywords=data+analyst+tshirt+funny&qid=1729132268&sr=8-13\"\n",
    "    headers = {\"User-Agent\": \"Mozilla/5.0 (Windows NT 10.0; Win64; x64) AppleWebKit/537.36 (KHTML, like Gecko) Chrome/129.0.0.0 Safari/537.36\", \n",
    "        \"X-Amzn-Trace-Id\": \"Root=1-66fd319e-295bc1c341f3d32211307ba8\"}\n",
    "\n",
    "    page = requests.get(URL, headers = headers)\n",
    "\n",
    "    # Check if the response is successful\n",
    "    if page.status_code == 200:\n",
    "        print(\"Successfully fetched the page.\")\n",
    "    else:\n",
    "        print(f\"Failed to fetch the page. Status code: {page.status_code}\")\n",
    "    \n",
    "    soup = BeautifulSoup(page.content, \"html.parser\")\n",
    "\n",
    "    soup1 = BeautifulSoup(soup.prettify(),\"html.parser\")\n",
    "\n",
    "\n",
    "    title_element = soup1.find(id='productTitle')\n",
    "\n",
    "    if title_element:\n",
    "        title = title_element.get_text().strip()\n",
    "        print(title)\n",
    "    else:\n",
    "        print(\"Hello Chandu, Here is no productTitle\")\n",
    "\n",
    "\n",
    "    price_element = soup1.find(class_='a-offscreen') \n",
    "    if price_element: \n",
    "        price = price_element.get_text().strip() \n",
    "        print(price) \n",
    "    else: \n",
    "        print(\"Hello Chandu, Here is no price\")\n",
    "\n",
    "    title = title.strip()[0:]\n",
    "    price = price.strip()\n",
    "    \n",
    "    import datetime\n",
    "    today = datetime.date.today()\n",
    "    \n",
    "    import csv\n",
    "    header = [\"Title\",\"Price\",\"Date\"]\n",
    "    data = [title,price,today]\n",
    "\n",
    "    with open('AmazonWebScraperDataset.csv','w',newline='', encoding='UTF-8') as f: \n",
    "        writer = csv.writer(f)\n",
    "        writer.writerow(header)\n",
    "        writer.writerow(data)\n"
   ]
  },
  {
   "cell_type": "code",
   "execution_count": 3,
   "id": "bc8a4390",
   "metadata": {},
   "outputs": [],
   "source": [
    "while(True):\n",
    "    check_price()\n",
    "    time.sleep(86400)"
   ]
  },
  {
   "cell_type": "code",
   "execution_count": 4,
   "id": "10b774fc",
   "metadata": {},
   "outputs": [],
   "source": [
    "import pandas as pd\n",
    "df = pd.read_csv(r\"C:\\Users\\dell\\.jupyter\\AmazonWebScraperDataset.csv\")\n",
    "print(df)"
   ]
  },
  {
   "cell_type": "code",
   "execution_count": null,
   "id": "1dacdcdd",
   "metadata": {},
   "outputs": [],
   "source": []
  },
  {
   "cell_type": "code",
   "execution_count": null,
   "id": "5f5c7185",
   "metadata": {},
   "outputs": [],
   "source": []
  }
 ],
 "metadata": {
  "kernelspec": {
   "display_name": "Python 3 (ipykernel)",
   "language": "python",
   "name": "python3"
  },
  "language_info": {
   "codemirror_mode": {
    "name": "ipython",
    "version": 3
   },
   "file_extension": ".py",
   "mimetype": "text/x-python",
   "name": "python",
   "nbconvert_exporter": "python",
   "pygments_lexer": "ipython3",
   "version": "3.11.5"
  }
 },
 "nbformat": 4,
 "nbformat_minor": 5
}
